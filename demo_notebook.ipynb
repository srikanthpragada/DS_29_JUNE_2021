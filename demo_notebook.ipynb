{
 "cells": [
  {
   "cell_type": "markdown",
   "id": "a1c39c1a",
   "metadata": {},
   "source": [
    "<h2>Demo Notebook</h2>"
   ]
  },
  {
   "cell_type": "code",
   "execution_count": 1,
   "id": "faa4e05d",
   "metadata": {
    "collapsed": true,
    "jupyter": {
     "outputs_hidden": true
    }
   },
   "outputs": [
    {
     "name": "stdout",
     "output_type": "stream",
     "text": [
      "2021-07-02 20:07:26.874010\n"
     ]
    }
   ],
   "source": [
    "import datetime\n",
    "print(datetime.datetime.now())"
   ]
  },
  {
   "cell_type": "code",
   "execution_count": 2,
   "id": "f6136cfb",
   "metadata": {
    "collapsed": true,
    "jupyter": {
     "outputs_hidden": true
    }
   },
   "outputs": [
    {
     "name": "stdout",
     "output_type": "stream",
     "text": [
      "Hello!\n"
     ]
    }
   ],
   "source": [
    "print(\"Hello!\")"
   ]
  },
  {
   "cell_type": "raw",
   "id": "267706db-1af2-469b-8dd2-5505f665876e",
   "metadata": {},
   "source": [
    "This is an example for RAW cell"
   ]
  },
  {
   "cell_type": "markdown",
   "id": "07bfa357-193d-4b4e-b4c0-ced9ab6a870a",
   "metadata": {},
   "source": [
    "#### Markdown Demo"
   ]
  },
  {
   "cell_type": "markdown",
   "id": "1a5d5891-cc11-4bc7-b3c4-b11e0dc428c5",
   "metadata": {},
   "source": [
    "__this is blod__\n",
    "<br/>\n",
    "_this is italic_"
   ]
  },
  {
   "cell_type": "markdown",
   "id": "5c7488f2-3dce-46b2-ba94-b1bb653d84ba",
   "metadata": {},
   "source": [
    "<h3>Topics </h3>\n",
    "<ul>\n",
    "    <li>Numpy</li>\n",
    "    <li>Pandas </li>\n",
    "</ul>"
   ]
  },
  {
   "cell_type": "markdown",
   "id": "c98fe578-a5f8-4afc-831c-7d151557a903",
   "metadata": {},
   "source": [
    "- Numpy\n",
    "* Pandas"
   ]
  },
  {
   "cell_type": "markdown",
   "id": "2e132c99-dd13-4b97-8042-1296f28fe4e6",
   "metadata": {},
   "source": [
    "1. Classification\n",
    "1. Regression\n",
    "1. Clustering"
   ]
  },
  {
   "cell_type": "markdown",
   "id": "6431d33f-3867-403d-ad5b-434b7ea5073e",
   "metadata": {},
   "source": [
    "<div class=\"alert alert-block alert-info\">\n",
    "This is all about Machine Learning\n",
    "</div>"
   ]
  },
  {
   "cell_type": "markdown",
   "id": "66f14989-1d01-4531-b14d-dcf3efd2da4c",
   "metadata": {},
   "source": [
    "<div class=\"alert alert-block alert-danger\">\n",
    "Machine Learning is no cake walk!\n",
    "</div>"
   ]
  },
  {
   "cell_type": "markdown",
   "id": "9be96a23-c114-442e-9552-56be7e7df510",
   "metadata": {},
   "source": [
    "__[Srikanth Technologies](http://www.srikanthtechnologies.com)__"
   ]
  },
  {
   "cell_type": "code",
   "execution_count": 7,
   "id": "c54b9f79-8ef7-4900-8acd-ff7282880879",
   "metadata": {
    "collapsed": true,
    "jupyter": {
     "outputs_hidden": true
    }
   },
   "outputs": [
    {
     "data": {
      "text/html": [
       "<img src=\"http://www.srikanthtechnologies.com/logo.jpg\"/>"
      ],
      "text/plain": [
       "<IPython.core.display.Image object>"
      ]
     },
     "execution_count": 7,
     "metadata": {},
     "output_type": "execute_result"
    }
   ],
   "source": [
    "from IPython.display import Image\n",
    "Image(url =\"http://www.srikanthtechnologies.com/logo.jpg\")"
   ]
  },
  {
   "cell_type": "markdown",
   "id": "829d69c0-ad6c-4bd5-accd-e6f776a598ac",
   "metadata": {},
   "source": [
    "### Shell Commands Demo"
   ]
  },
  {
   "cell_type": "code",
   "execution_count": 8,
   "id": "12115d3f-f12a-417d-8eda-71ac995fe148",
   "metadata": {
    "collapsed": true,
    "jupyter": {
     "outputs_hidden": true
    }
   },
   "outputs": [
    {
     "name": "stdout",
     "output_type": "stream",
     "text": [
      "C:\\classroom\\jun29\n"
     ]
    }
   ],
   "source": [
    "!cd"
   ]
  },
  {
   "cell_type": "code",
   "execution_count": 9,
   "id": "0834b0eb-5a5e-489a-9943-7f3783c02ad2",
   "metadata": {
    "collapsed": true,
    "jupyter": {
     "outputs_hidden": true
    }
   },
   "outputs": [
    {
     "name": "stdout",
     "output_type": "stream",
     "text": [
      " Volume in drive C is OS\n",
      " Volume Serial Number is D874-1F97\n",
      "\n",
      " Directory of C:\\classroom\\jun29\n",
      "\n",
      "02-07-2021  20:23    <DIR>          .\n",
      "02-07-2021  20:23    <DIR>          ..\n",
      "20-05-2021  16:46             1,972 .gitignore\n",
      "01-07-2021  20:55    <DIR>          .ipynb_checkpoints\n",
      "02-07-2021  20:23             3,649 demo_notebook.ipynb\n",
      "05-05-2021  19:57                13 j.bat\n",
      "01-07-2021  21:01               162 upload.bat\n",
      "               4 File(s)          5,796 bytes\n",
      "               3 Dir(s)  132,965,466,112 bytes free\n"
     ]
    }
   ],
   "source": [
    "!dir"
   ]
  },
  {
   "cell_type": "code",
   "execution_count": 11,
   "id": "79fc3b35-8973-4865-9f50-cdcc92471daa",
   "metadata": {
    "collapsed": true,
    "jupyter": {
     "outputs_hidden": true
    }
   },
   "outputs": [
    {
     "name": "stdout",
     "output_type": "stream",
     "text": [
      "Numpy\n",
      "Pandas\n",
      "Matplotlib\n",
      "Seaborn\n",
      "SkLearn\n"
     ]
    }
   ],
   "source": [
    "!type libraries.txt"
   ]
  },
  {
   "cell_type": "code",
   "execution_count": 12,
   "id": "eb18ee1c-56be-40fb-bf88-8205ee95c8be",
   "metadata": {
    "collapsed": true,
    "jupyter": {
     "outputs_hidden": true
    }
   },
   "outputs": [],
   "source": [
    "libs = !type libraries.txt"
   ]
  },
  {
   "cell_type": "code",
   "execution_count": 13,
   "id": "8383516d-ef07-411a-84bd-b82e68548a10",
   "metadata": {
    "collapsed": true,
    "jupyter": {
     "outputs_hidden": true
    }
   },
   "outputs": [
    {
     "data": {
      "text/plain": [
       "['Numpy', 'Pandas', 'Matplotlib', 'Seaborn', 'SkLearn']"
      ]
     },
     "execution_count": 13,
     "metadata": {},
     "output_type": "execute_result"
    }
   ],
   "source": [
    "libs"
   ]
  },
  {
   "cell_type": "code",
   "execution_count": 15,
   "id": "8b003b58-2a24-42a8-99fd-df2c3fb9b091",
   "metadata": {
    "collapsed": true,
    "jupyter": {
     "outputs_hidden": true
    }
   },
   "outputs": [
    {
     "name": "stdout",
     "output_type": "stream",
     "text": [
      "libraries.txt\n",
      "----------\n",
      "Numpy\n",
      "Pandas\n",
      "Matplotlib\n",
      "Seaborn\n",
      "SkLearn\n",
      "\n",
      "upload.bat\n",
      "----------\n",
      "rem add all files\n",
      "git add .\n",
      "\n",
      "rem commit with the given message \n",
      "git commit -m %1\n",
      "\n",
      "rem push master branch of this remote project\n",
      "git push ds_29_june_2021 master\n",
      "\n",
      "\n",
      "\n"
     ]
    }
   ],
   "source": [
    "files = ['libraries.txt', 'upload.bat']\n",
    "for f in files:\n",
    "    print(f)\n",
    "    print(\"-\" * 10)\n",
    "    !type {f}\n",
    "    print()"
   ]
  },
  {
   "cell_type": "markdown",
   "id": "63398614-87c7-48ff-b7af-dabf7bfd4372",
   "metadata": {},
   "source": [
    "### Line Magic Functions"
   ]
  },
  {
   "cell_type": "code",
   "execution_count": 16,
   "id": "63c596a9-3ede-4002-a37a-f299916c30e9",
   "metadata": {
    "collapsed": true,
    "jupyter": {
     "outputs_hidden": true
    }
   },
   "outputs": [
    {
     "data": {
      "text/plain": [
       "'C:\\\\classroom\\\\jun29'"
      ]
     },
     "execution_count": 16,
     "metadata": {},
     "output_type": "execute_result"
    }
   ],
   "source": [
    "%pwd"
   ]
  },
  {
   "cell_type": "code",
   "execution_count": 17,
   "id": "648c2a01-4259-455b-9ce2-8aee76bdf68b",
   "metadata": {
    "collapsed": true,
    "jupyter": {
     "outputs_hidden": true
    }
   },
   "outputs": [
    {
     "name": "stdout",
     "output_type": "stream",
     "text": [
      "Image\t datetime\t f\t files\t libs\t \n"
     ]
    }
   ],
   "source": [
    "%who"
   ]
  },
  {
   "cell_type": "code",
   "execution_count": 19,
   "id": "0a531781-41c5-4074-a66b-7f4ccf9fccd1",
   "metadata": {
    "collapsed": true,
    "jupyter": {
     "outputs_hidden": true
    },
    "tags": []
   },
   "outputs": [],
   "source": [
    "#%env"
   ]
  },
  {
   "cell_type": "code",
   "execution_count": 21,
   "id": "eda5a320-a6f4-4d32-b8e3-211cebdaf945",
   "metadata": {
    "collapsed": true,
    "jupyter": {
     "outputs_hidden": true
    }
   },
   "outputs": [
    {
     "data": {
      "text/plain": [
       "[' Volume in drive C is OS',\n",
       " ' Volume Serial Number is D874-1F97',\n",
       " '',\n",
       " ' Directory of C:\\\\classroom\\\\jun29',\n",
       " '',\n",
       " '02-07-2021  20:35    <DIR>          .',\n",
       " '02-07-2021  20:35    <DIR>          ..',\n",
       " '20-05-2021  16:46             1,972 .gitignore',\n",
       " '02-07-2021  20:26    <DIR>          .ipynb_checkpoints',\n",
       " '02-07-2021  20:35             7,948 demo_notebook.ipynb',\n",
       " '05-05-2021  19:57                13 j.bat',\n",
       " '02-07-2021  20:26                40 libraries.txt',\n",
       " '01-07-2021  21:01               162 upload.bat',\n",
       " '               5 File(s)         10,135 bytes',\n",
       " '               3 Dir(s)  132,962,234,368 bytes free']"
      ]
     },
     "execution_count": 21,
     "metadata": {},
     "output_type": "execute_result"
    }
   ],
   "source": [
    "%system dir"
   ]
  },
  {
   "cell_type": "code",
   "execution_count": 22,
   "id": "ad2b6d37-9a43-44f2-ad9f-d9620c22a6f9",
   "metadata": {
    "collapsed": true,
    "jupyter": {
     "outputs_hidden": true
    }
   },
   "outputs": [
    {
     "data": {
      "application/json": {
       "cell": {
        "!": "OSMagics",
        "HTML": "Other",
        "SVG": "Other",
        "bash": "Other",
        "capture": "ExecutionMagics",
        "cmd": "Other",
        "debug": "ExecutionMagics",
        "file": "Other",
        "html": "DisplayMagics",
        "javascript": "DisplayMagics",
        "js": "DisplayMagics",
        "latex": "DisplayMagics",
        "markdown": "DisplayMagics",
        "perl": "Other",
        "prun": "ExecutionMagics",
        "pypy": "Other",
        "python": "Other",
        "python2": "Other",
        "python3": "Other",
        "ruby": "Other",
        "script": "ScriptMagics",
        "sh": "Other",
        "svg": "DisplayMagics",
        "sx": "OSMagics",
        "system": "OSMagics",
        "time": "ExecutionMagics",
        "timeit": "ExecutionMagics",
        "writefile": "OSMagics"
       },
       "line": {
        "alias": "OSMagics",
        "alias_magic": "BasicMagics",
        "autoawait": "AsyncMagics",
        "autocall": "AutoMagics",
        "automagic": "AutoMagics",
        "autosave": "KernelMagics",
        "bookmark": "OSMagics",
        "cd": "OSMagics",
        "clear": "KernelMagics",
        "cls": "KernelMagics",
        "colors": "BasicMagics",
        "conda": "PackagingMagics",
        "config": "ConfigMagics",
        "connect_info": "KernelMagics",
        "copy": "Other",
        "ddir": "Other",
        "debug": "ExecutionMagics",
        "dhist": "OSMagics",
        "dirs": "OSMagics",
        "doctest_mode": "BasicMagics",
        "echo": "Other",
        "ed": "Other",
        "edit": "KernelMagics",
        "env": "OSMagics",
        "gui": "BasicMagics",
        "hist": "Other",
        "history": "HistoryMagics",
        "killbgscripts": "ScriptMagics",
        "ldir": "Other",
        "less": "KernelMagics",
        "load": "CodeMagics",
        "load_ext": "ExtensionMagics",
        "loadpy": "CodeMagics",
        "logoff": "LoggingMagics",
        "logon": "LoggingMagics",
        "logstart": "LoggingMagics",
        "logstate": "LoggingMagics",
        "logstop": "LoggingMagics",
        "ls": "Other",
        "lsmagic": "BasicMagics",
        "macro": "ExecutionMagics",
        "magic": "BasicMagics",
        "matplotlib": "PylabMagics",
        "mkdir": "Other",
        "more": "KernelMagics",
        "notebook": "BasicMagics",
        "page": "BasicMagics",
        "pastebin": "CodeMagics",
        "pdb": "ExecutionMagics",
        "pdef": "NamespaceMagics",
        "pdoc": "NamespaceMagics",
        "pfile": "NamespaceMagics",
        "pinfo": "NamespaceMagics",
        "pinfo2": "NamespaceMagics",
        "pip": "PackagingMagics",
        "popd": "OSMagics",
        "pprint": "BasicMagics",
        "precision": "BasicMagics",
        "prun": "ExecutionMagics",
        "psearch": "NamespaceMagics",
        "psource": "NamespaceMagics",
        "pushd": "OSMagics",
        "pwd": "OSMagics",
        "pycat": "OSMagics",
        "pylab": "PylabMagics",
        "qtconsole": "KernelMagics",
        "quickref": "BasicMagics",
        "recall": "HistoryMagics",
        "rehashx": "OSMagics",
        "reload_ext": "ExtensionMagics",
        "ren": "Other",
        "rep": "Other",
        "rerun": "HistoryMagics",
        "reset": "NamespaceMagics",
        "reset_selective": "NamespaceMagics",
        "rmdir": "Other",
        "run": "ExecutionMagics",
        "save": "CodeMagics",
        "sc": "OSMagics",
        "set_env": "OSMagics",
        "store": "StoreMagics",
        "sx": "OSMagics",
        "system": "OSMagics",
        "tb": "ExecutionMagics",
        "time": "ExecutionMagics",
        "timeit": "ExecutionMagics",
        "unalias": "OSMagics",
        "unload_ext": "ExtensionMagics",
        "who": "NamespaceMagics",
        "who_ls": "NamespaceMagics",
        "whos": "NamespaceMagics",
        "xdel": "NamespaceMagics",
        "xmode": "BasicMagics"
       }
      },
      "text/plain": [
       "Available line magics:\n",
       "%alias  %alias_magic  %autoawait  %autocall  %automagic  %autosave  %bookmark  %cd  %clear  %cls  %colors  %conda  %config  %connect_info  %copy  %ddir  %debug  %dhist  %dirs  %doctest_mode  %echo  %ed  %edit  %env  %gui  %hist  %history  %killbgscripts  %ldir  %less  %load  %load_ext  %loadpy  %logoff  %logon  %logstart  %logstate  %logstop  %ls  %lsmagic  %macro  %magic  %matplotlib  %mkdir  %more  %notebook  %page  %pastebin  %pdb  %pdef  %pdoc  %pfile  %pinfo  %pinfo2  %pip  %popd  %pprint  %precision  %prun  %psearch  %psource  %pushd  %pwd  %pycat  %pylab  %qtconsole  %quickref  %recall  %rehashx  %reload_ext  %ren  %rep  %rerun  %reset  %reset_selective  %rmdir  %run  %save  %sc  %set_env  %store  %sx  %system  %tb  %time  %timeit  %unalias  %unload_ext  %who  %who_ls  %whos  %xdel  %xmode\n",
       "\n",
       "Available cell magics:\n",
       "%%!  %%HTML  %%SVG  %%bash  %%capture  %%cmd  %%debug  %%file  %%html  %%javascript  %%js  %%latex  %%markdown  %%perl  %%prun  %%pypy  %%python  %%python2  %%python3  %%ruby  %%script  %%sh  %%svg  %%sx  %%system  %%time  %%timeit  %%writefile\n",
       "\n",
       "Automagic is ON, % prefix IS NOT needed for line magics."
      ]
     },
     "execution_count": 22,
     "metadata": {},
     "output_type": "execute_result"
    }
   ],
   "source": [
    "%lsmagic"
   ]
  },
  {
   "cell_type": "markdown",
   "id": "8e8d75f5-5c3a-4214-9472-cebc996bffd5",
   "metadata": {},
   "source": [
    "### Cell Magic Function"
   ]
  },
  {
   "cell_type": "code",
   "execution_count": 23,
   "id": "5bae892a-bca1-461c-bea4-182e996eddbe",
   "metadata": {
    "collapsed": true,
    "jupyter": {
     "outputs_hidden": true
    }
   },
   "outputs": [
    {
     "name": "stdout",
     "output_type": "stream",
     "text": [
      "Writing names.txt\n"
     ]
    }
   ],
   "source": [
    "%%writefile names.txt\n",
    "Anders\n",
    "James\n",
    "Larry\n",
    "Rossum"
   ]
  },
  {
   "cell_type": "code",
   "execution_count": 24,
   "id": "d2b318b7-192c-42ef-8abb-8dfc1dfbf362",
   "metadata": {
    "collapsed": true,
    "jupyter": {
     "outputs_hidden": true
    }
   },
   "outputs": [],
   "source": [
    "%%capture numbers\n",
    "for i in range(10,20):\n",
    "    print(i)"
   ]
  },
  {
   "cell_type": "code",
   "execution_count": 25,
   "id": "75053912-0fdc-4313-998b-0707bc33304b",
   "metadata": {
    "collapsed": true,
    "jupyter": {
     "outputs_hidden": true
    }
   },
   "outputs": [
    {
     "data": {
      "text/plain": [
       "IPython.utils.capture.CapturedIO"
      ]
     },
     "execution_count": 25,
     "metadata": {},
     "output_type": "execute_result"
    }
   ],
   "source": [
    "type(numbers)"
   ]
  },
  {
   "cell_type": "code",
   "execution_count": 28,
   "id": "a49b0b8c-a648-4af4-97a2-a9032bf60dcf",
   "metadata": {
    "collapsed": true,
    "jupyter": {
     "outputs_hidden": true
    },
    "tags": []
   },
   "outputs": [
    {
     "name": "stdout",
     "output_type": "stream",
     "text": [
      "10\n",
      "11\n",
      "12\n",
      "13\n",
      "14\n",
      "15\n",
      "16\n",
      "17\n",
      "18\n",
      "19\n",
      "\n"
     ]
    }
   ],
   "source": [
    "print(numbers.stdout)"
   ]
  },
  {
   "cell_type": "code",
   "execution_count": 29,
   "id": "deda7029-35e9-43cf-9560-8def1338ce37",
   "metadata": {
    "collapsed": true,
    "jupyter": {
     "outputs_hidden": true,
     "source_hidden": true
    },
    "tags": []
   },
   "outputs": [
    {
     "name": "stdout",
     "output_type": "stream",
     "text": [
      "338 µs ± 47.1 µs per loop (mean ± std. dev. of 10 runs, 10 loops each)\n"
     ]
    }
   ],
   "source": [
    "%%timeit -n 10 -r 10\n",
    "lst = []\n",
    "for n in range(1,1000):\n",
    "    lst.append(n*n)"
   ]
  },
  {
   "cell_type": "code",
   "execution_count": 30,
   "id": "3d1d6128-a260-4a29-a99d-1e130a2c0dd4",
   "metadata": {
    "collapsed": true,
    "jupyter": {
     "outputs_hidden": true
    }
   },
   "outputs": [
    {
     "name": "stdout",
     "output_type": "stream",
     "text": [
      "191 µs ± 34.9 µs per loop (mean ± std. dev. of 10 runs, 10 loops each)\n"
     ]
    }
   ],
   "source": [
    "%%timeit -n 10 -r 10\n",
    "lst = [n*n for n in range(1,1000)]"
   ]
  },
  {
   "cell_type": "code",
   "execution_count": null,
   "id": "d73ff565-8881-4f12-a89c-37847577206c",
   "metadata": {
    "collapsed": true,
    "jupyter": {
     "outputs_hidden": true
    }
   },
   "outputs": [],
   "source": []
  }
 ],
 "metadata": {
  "kernelspec": {
   "display_name": "Python 3",
   "language": "python",
   "name": "python3"
  },
  "language_info": {
   "codemirror_mode": {
    "name": "ipython",
    "version": 3
   },
   "file_extension": ".py",
   "mimetype": "text/x-python",
   "name": "python",
   "nbconvert_exporter": "python",
   "pygments_lexer": "ipython3",
   "version": "3.8.8"
  }
 },
 "nbformat": 4,
 "nbformat_minor": 5
}
