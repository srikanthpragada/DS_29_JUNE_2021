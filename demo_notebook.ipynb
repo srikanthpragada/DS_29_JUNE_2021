{
 "cells": [
  {
   "cell_type": "markdown",
   "id": "a1c39c1a",
   "metadata": {},
   "source": [
    "<h2>Demo Notebook</h2>"
   ]
  },
  {
   "cell_type": "code",
   "execution_count": 25,
   "id": "faa4e05d",
   "metadata": {},
   "outputs": [
    {
     "name": "stdout",
     "output_type": "stream",
     "text": [
      "2021-07-01 20:40:52.034017\n"
     ]
    }
   ],
   "source": [
    "import datetime\n",
    "print(datetime.datetime.now())"
   ]
  },
  {
   "cell_type": "code",
   "execution_count": 26,
   "id": "f6136cfb",
   "metadata": {},
   "outputs": [
    {
     "name": "stdout",
     "output_type": "stream",
     "text": [
      "Hello!\n"
     ]
    }
   ],
   "source": [
    "print(\"Hello!\")"
   ]
  },
  {
   "cell_type": "markdown",
   "id": "07bfa357-193d-4b4e-b4c0-ced9ab6a870a",
   "metadata": {},
   "source": [
    "#### Markdown Cell"
   ]
  },
  {
   "cell_type": "raw",
   "id": "267706db-1af2-469b-8dd2-5505f665876e",
   "metadata": {},
   "source": [
    "This is an example for RAW cell"
   ]
  },
  {
   "cell_type": "code",
   "execution_count": 27,
   "id": "a86e3ef3-5629-46d1-adc5-6f96b579ee46",
   "metadata": {},
   "outputs": [
    {
     "data": {
      "text/plain": [
       "\u001b[1;31mDocstring:\u001b[0m string, format -> new datetime parsed from a string (like time.strptime()).\n",
       "\u001b[1;31mType:\u001b[0m      builtin_function_or_method\n"
      ]
     },
     "metadata": {},
     "output_type": "display_data"
    }
   ],
   "source": [
    "datetime.datetime.strptime?"
   ]
  },
  {
   "cell_type": "code",
   "execution_count": null,
   "id": "a67dd5c7-9f8b-4c23-b888-17bb58634fed",
   "metadata": {},
   "outputs": [],
   "source": []
  }
 ],
 "metadata": {
  "kernelspec": {
   "display_name": "Python 3",
   "language": "python",
   "name": "python3"
  },
  "language_info": {
   "codemirror_mode": {
    "name": "ipython",
    "version": 3
   },
   "file_extension": ".py",
   "mimetype": "text/x-python",
   "name": "python",
   "nbconvert_exporter": "python",
   "pygments_lexer": "ipython3",
   "version": "3.8.8"
  }
 },
 "nbformat": 4,
 "nbformat_minor": 5
}
